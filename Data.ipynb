{
 "cells": [
  {
   "cell_type": "code",
   "execution_count": null,
   "id": "37994eae-7edc-4a4d-b9f7-82359d81c87b",
   "metadata": {},
   "outputs": [],
   "source": [
    "import numpy as np\n",
    "import pandas as pd\n",
    "from scipy import stats\n",
    "import statsmodels.api as sm\n",
    "import seaborn as sns\n",
    "from matplotlib import pyplot as plt\n",
    "from dateutil import parser\n",
    "import datetime"
   ]
  },
  {
   "cell_type": "markdown",
   "id": "03235c8d-dc39-4599-8dff-9442362415c8",
   "metadata": {},
   "source": [
    "## Timeseries"
   ]
  },
  {
   "cell_type": "code",
   "execution_count": null,
   "id": "c59f1f07-6e98-4036-9038-89653a5ac840",
   "metadata": {},
   "outputs": [],
   "source": [
    "us = pd.read_csv(\"https://github.com/nytimes/covid-19-data/blob/master/us.csv?raw=true\", parse_dates=['date'])\n",
    "us_states = pd.read_csv(\"https://github.com/nytimes/covid-19-data/blob/master/us-states.csv?raw=true\", parse_dates=['date'])\n",
    "us"
   ]
  },
  {
   "cell_type": "code",
   "execution_count": null,
   "id": "01f4b76a-f369-48e3-aff1-350e19387f0f",
   "metadata": {},
   "outputs": [],
   "source": [
    "us_diff = us.set_index('date')\n",
    "assert us_diff.resample('1d').asfreq().shape == us_diff.shape\n",
    "us_diff -= us_diff.shift(1)\n",
    "us_diff.iloc[0, :] = us.iloc[0, 1:]\n",
    "us_diff"
   ]
  },
  {
   "cell_type": "code",
   "execution_count": null,
   "id": "2eefaceb-a8ff-43ae-8a10-cee3fc77d0f9",
   "metadata": {},
   "outputs": [],
   "source": [
    "fig, ax = plt.subplots()\n",
    "\n",
    "sns.lineplot(data=us_diff.rolling('14d').mean(), x='date', y='cases')\n",
    "\n",
    "fig.set_size_inches(12,8)\n",
    "plt.show()"
   ]
  },
  {
   "cell_type": "markdown",
   "id": "9145f42c-97fb-4f63-9189-07d7fa77461c",
   "metadata": {},
   "source": [
    "## Antibodies"
   ]
  },
  {
   "cell_type": "code",
   "execution_count": null,
   "id": "c9622da4-2f85-4081-9034-bf543cab8e2e",
   "metadata": {},
   "outputs": [],
   "source": [
    "workbook_name = 'data/fake.xlsx'"
   ]
  },
  {
   "cell_type": "code",
   "execution_count": null,
   "id": "35d3c0be-b748-40fa-bbd1-c4fd530a71e6",
   "metadata": {},
   "outputs": [],
   "source": [
    "sample_info = pd.read_excel(workbook_name, sheet_name='Sample Information')\n",
    "sample_info.head()"
   ]
  },
  {
   "cell_type": "code",
   "execution_count": null,
   "id": "abb6fdaf-eabe-4f4e-97cb-df13055a7665",
   "metadata": {},
   "outputs": [],
   "source": [
    "participant_info = pd.read_excel(workbook_name, sheet_name='Participant Information')\n",
    "participant_info.head()"
   ]
  },
  {
   "cell_type": "code",
   "execution_count": null,
   "id": "69be8ce6-9310-43b9-bab8-39ce5afac755",
   "metadata": {},
   "outputs": [],
   "source": [
    "indexed = participant_info.set_index('Participant ID')\n",
    "indexed.head()"
   ]
  },
  {
   "cell_type": "code",
   "execution_count": null,
   "id": "41ec2771-c0e0-4c6e-9b98-b11be8637db2",
   "metadata": {},
   "outputs": [],
   "source": [
    "df = sample_info.join(indexed, on='Participant ID')\n",
    "df.head()"
   ]
  },
  {
   "cell_type": "code",
   "execution_count": null,
   "id": "bcaf659a-8914-4249-987e-6f1eaa59adc5",
   "metadata": {},
   "outputs": [],
   "source": [
    "df['Vax1 to Infection'] - df['Vax1 to Boost']"
   ]
  },
  {
   "cell_type": "code",
   "execution_count": null,
   "id": "c6cd244c-a3ee-454b-9930-31f0410c27c6",
   "metadata": {},
   "outputs": [],
   "source": [
    "df['Infection Pre-Boost'] = df.apply(lambda row: row['Vax1 to Infection'] < row['Vax1 to Boost'] or pd.isna(row['Vax1 to Boost']), axis=1)\n",
    "df['Infection Post-Boost'] = df['Infection Pre-Boost'].apply(lambda val: \"No\" if val else \"Yes\")\n",
    "df['Days to Infection'] = df['Days to Vax1'] - df['Vax1 to Infection']\n",
    "df['Days to Boost'] = df['Days to Vax1'] - df['Vax1 to Boost']\n",
    "df['Sample Pre-Infection'] = df['Days to Infection'] <= 0\n",
    "\n",
    "df.head()"
   ]
  },
  {
   "cell_type": "code",
   "execution_count": null,
   "id": "8e243646-290a-48d8-85c2-70b2df3698ce",
   "metadata": {},
   "outputs": [],
   "source": [
    "df['Sorting Column'] = abs(df['Days to Infection'] - 28)\n",
    "df_dedup = (df.sort_values('Sorting Column')\n",
    "              .drop_duplicates(subset=['Participant ID', 'Sample Pre-Infection'], keep='first')\n",
    "              .sort_values(by=['Participant ID','Days to Infection'])\n",
    "              .drop('Sorting Column', axis=1))\n",
    "df_dedup['Log2AUC'] = np.log2(df['AUC'])\n",
    "df_dedup.head()"
   ]
  },
  {
   "cell_type": "code",
   "execution_count": null,
   "id": "e2282aa1-198c-412f-bfe9-fc07774132b6",
   "metadata": {},
   "outputs": [],
   "source": [
    "df_dedup.groupby('Participant ID').count()"
   ]
  },
  {
   "cell_type": "code",
   "execution_count": null,
   "id": "af811d4e-e9dd-496e-af14-87dd175e4811",
   "metadata": {},
   "outputs": [],
   "source": [
    "df_dedup.groupby('Participant ID').count().query('AUC == 1')"
   ]
  },
  {
   "cell_type": "code",
   "execution_count": null,
   "id": "db11df49-833d-48af-8c0f-29f40975d8c9",
   "metadata": {},
   "outputs": [],
   "source": [
    "insufficient = df_dedup.groupby('Participant ID').count().query('AUC == 1').index.to_numpy()\n",
    "insufficient"
   ]
  },
  {
   "cell_type": "code",
   "execution_count": null,
   "id": "6c580b04-4d9f-4855-8826-8f438d878c9e",
   "metadata": {},
   "outputs": [],
   "source": [
    "df_final = df_dedup[df_dedup['Participant ID'].apply(lambda val: val not in insufficient)]\n",
    "print(df_final.shape)\n",
    "df_final.head()"
   ]
  },
  {
   "cell_type": "code",
   "execution_count": null,
   "id": "64071038-4ffa-4b39-bcc2-e8b994c2b368",
   "metadata": {},
   "outputs": [],
   "source": []
  }
 ],
 "metadata": {
  "kernelspec": {
   "display_name": "Python 3",
   "language": "python",
   "name": "python3"
  },
  "language_info": {
   "codemirror_mode": {
    "name": "ipython",
    "version": 3
   },
   "file_extension": ".py",
   "mimetype": "text/x-python",
   "name": "python",
   "nbconvert_exporter": "python",
   "pygments_lexer": "ipython3",
   "version": "3.9.5"
  }
 },
 "nbformat": 4,
 "nbformat_minor": 5
}
