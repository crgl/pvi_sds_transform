{
 "cells": [
  {
   "cell_type": "markdown",
   "id": "c766e6d3-28f9-42fd-815c-d79d42668fab",
   "metadata": {},
   "source": [
    "# Data Pre-Processing"
   ]
  },
  {
   "cell_type": "code",
   "execution_count": null,
   "id": "37994eae-7edc-4a4d-b9f7-82359d81c87b",
   "metadata": {},
   "outputs": [],
   "source": [
    "import numpy as np\n",
    "import pandas as pd\n",
    "from scipy import stats\n",
    "import statsmodels.api as sm\n",
    "import seaborn as sns\n",
    "from matplotlib import pyplot as plt\n",
    "from dateutil import parser\n",
    "import datetime"
   ]
  },
  {
   "cell_type": "markdown",
   "id": "03235c8d-dc39-4599-8dff-9442362415c8",
   "metadata": {},
   "source": [
    "## Timeseries"
   ]
  },
  {
   "cell_type": "code",
   "execution_count": null,
   "id": "c59f1f07-6e98-4036-9038-89653a5ac840",
   "metadata": {},
   "outputs": [],
   "source": [
    "us = pd.read_csv(\"https://github.com/nytimes/covid-19-data/blob/master/us.csv?raw=true\", parse_dates=['date'])\n",
    "us_states = pd.read_csv(\"https://github.com/nytimes/covid-19-data/blob/master/us-states.csv?raw=true\", parse_dates=['date'])\n",
    "us"
   ]
  },
  {
   "cell_type": "code",
   "execution_count": null,
   "id": "01f4b76a-f369-48e3-aff1-350e19387f0f",
   "metadata": {},
   "outputs": [],
   "source": [
    "us_diff = us.set_index('date')\n",
    "assert us_diff.resample('1d').asfreq().shape == us_diff.shape\n",
    "us_diff -= us_diff.shift(1)\n",
    "us_diff.iloc[0, :] = us.iloc[0, 1:]\n",
    "us_diff"
   ]
  },
  {
   "cell_type": "code",
   "execution_count": null,
   "id": "2eefaceb-a8ff-43ae-8a10-cee3fc77d0f9",
   "metadata": {},
   "outputs": [],
   "source": [
    "fig, ax = plt.subplots()\n",
    "\n",
    "sns.lineplot(data=us_diff.rolling('14d').mean(), x='date', y='cases')\n",
    "\n",
    "fig.set_size_inches(12,8)\n",
    "plt.show()"
   ]
  },
  {
   "cell_type": "markdown",
   "id": "8bbf3287-9beb-47e9-b823-41879699d89d",
   "metadata": {},
   "source": [
    "## Fitting everything on one line\n",
    "\n",
    "### Anonymous Functions\n",
    "\n",
    "When you're transforming data, you'll often want to do something fairly simple that doesn't have an immediate pre-built function. If you're going to reuse it often, it might be worth defining a function and then applying it:\n",
    "\n",
    "```python\n",
    "def bool_to_yn(boolean):\n",
    "  if boolean:\n",
    "    return \"Yes\"\n",
    "  else:\n",
    "    return \"No\"\n",
    "```\n",
    "\n",
    "On the other hand, it may be something you'll only use once. If I want to do the opposite transformation (True to \"Yes\" and False to \"No\"), it's just extra effort and clutter. In that case, you can just do everything on one line:\n",
    "\n",
    "```python\n",
    "df['Infection Post-Boost'] = df['Infection Pre-Boost'].apply(lambda pre_boost: \"No\" if pre_boost else \"Yes\")\n",
    "```\n",
    "\n",
    "There are two things that are unusual here: the lambda syntax, and the one-line if statement. This is equivalent to:\n",
    "\n",
    "```python\n",
    "def pre_to_post(pre_boost):\n",
    "    if pre_boost:\n",
    "        return \"No\"\n",
    "    else:\n",
    "        return \"Yes\"\n",
    "\n",
    "df['Infection Post-Boost'] = df['Infection Pre-Boost'].apply(pre_to_post)\n",
    "```\n",
    "\n",
    "Instead of naming each function, every function is single-use and gets the same name (lambda, for arcane reasons). The one-line `if` statement reads like English.\n",
    "\n",
    "### List Comprehensions\n",
    "\n",
    "Just like if statements, you can also iterate through, filter, and transform on one line. This is easier to show in an actual code cell:\n"
   ]
  },
  {
   "cell_type": "code",
   "execution_count": null,
   "id": "9c6b09fc-8db2-4217-8cf9-30ce23417581",
   "metadata": {},
   "outputs": [],
   "source": [
    "fruits = ['Honeyberry','Huckleberry','Jabuticaba','Jackfruit','Jambul','Japanese plum','Jostaberry','Jujube','Juniper berry','Kaffir Lime','Horned Melon','Kiwifruit','Kumquat','Lemon','Lime','Loganberry','Longan','Loquat','Lulo','Lychee','Magellan Barberry','Mamey Apple','Mamey Sapote','Mango','Mangosteen','Marionberry','Melon','Cantaloupe','Galia melon','Honeydew','Mouse melon','Musk melon','Watermelon','Miracle fruit','Momordica fruit','Monstera deliciosa','Mulberry','Nance','Nectarine']\n",
    "\n",
    "multipart = [', '.join(fruit.split()[::-1]) for fruit in fruits if \" \" in fruit]\n",
    "\n",
    "sorted(multipart)\n"
   ]
  },
  {
   "cell_type": "code",
   "execution_count": null,
   "id": "2439b7df-1840-455d-beac-bc206b92c1c1",
   "metadata": {},
   "outputs": [],
   "source": [
    "sorted(multipart, key=lambda val: val.lower())"
   ]
  },
  {
   "cell_type": "markdown",
   "id": "6c1afca1-d5f5-494c-af25-e1cef58c422f",
   "metadata": {},
   "source": [
    "List comprehensions let you apply a function to every element in a list (or a subset fulfilling certain conditions) all in one line, somewhat readably."
   ]
  },
  {
   "cell_type": "markdown",
   "id": "d2b4afef-4192-4d0d-9219-c9327b792b62",
   "metadata": {
    "jp-MarkdownHeadingCollapsed": true,
    "tags": []
   },
   "source": [
    "## Splitting one line across multiple\n",
    "\n",
    "The reverse is also often useful. Pandas makes it very easy to do something called \"method chaining.\" By default, functions on dataframes make and transform a copy of the dataframe instead of changing the existing dataframe. This lets you do something like this:\n",
    "\n",
    "```python\n",
    "df.sort_values('Sorting Column').drop_duplicates(subset=['Participant ID', 'Sample Pre-Infection'], keep='first').sort_values(by=['Participant ID','Days to Infection']).drop('Sorting Column', axis=1)\n",
    "```\n",
    "\n",
    "which is convenient but basically unreadable. There's sorting, removing duplicates, re-sorting, and cleaning columns, but it's hard to keep everything separate. Because Python cares about whitespace, you can't generally hit enter anywhere you like and move functions to a new line. However, you can generally start a new line in the middle of parentheses, square braces, and brackets. Since parentheses don't do anything, you're free to add them and do something like this:\n",
    "\n",
    "```python\n",
    "(df.sort_values('Sorting Column')\n",
    "   .drop_duplicates(subset=['Participant ID', 'Sample Pre-Infection'], keep='first')\n",
    "   .sort_values(by=['Participant ID','Days to Infection'])\n",
    "   .drop('Sorting Column', axis=1))\n",
    "```\n",
    "\n",
    "This is a lot more legible, and if you don't need access to any of the intermediate states it's also cleaner. In general, it's nice to be able to put simple one-time transformations on one line, while splitting more complicated multi-part endeavours across multiple lines."
   ]
  },
  {
   "cell_type": "markdown",
   "id": "ff18686f-5220-4e48-88ec-fa4f7a4dd0b6",
   "metadata": {},
   "source": [
    "# Antibodies\n",
    "\n",
    "A while back, we augmented sample test results (antibody levels in the form of AUC) in Excel. We can do the same stuff in Python:"
   ]
  },
  {
   "cell_type": "code",
   "execution_count": null,
   "id": "c9622da4-2f85-4081-9034-bf543cab8e2e",
   "metadata": {},
   "outputs": [],
   "source": [
    "workbook_name = 'data/fake.xlsx'"
   ]
  },
  {
   "cell_type": "code",
   "execution_count": null,
   "id": "35d3c0be-b748-40fa-bbd1-c4fd530a71e6",
   "metadata": {},
   "outputs": [],
   "source": [
    "sample_info = pd.read_excel(workbook_name, sheet_name='Sample Information')\n",
    "sample_info.head()"
   ]
  },
  {
   "cell_type": "code",
   "execution_count": null,
   "id": "abb6fdaf-eabe-4f4e-97cb-df13055a7665",
   "metadata": {},
   "outputs": [],
   "source": [
    "participant_info = pd.read_excel(workbook_name, sheet_name='Participant Information')\n",
    "participant_info.head()"
   ]
  },
  {
   "cell_type": "code",
   "execution_count": null,
   "id": "69be8ce6-9310-43b9-bab8-39ce5afac755",
   "metadata": {},
   "outputs": [],
   "source": [
    "indexed = participant_info.set_index('Participant ID')\n",
    "indexed.head()"
   ]
  },
  {
   "cell_type": "code",
   "execution_count": null,
   "id": "41ec2771-c0e0-4c6e-9b98-b11be8637db2",
   "metadata": {},
   "outputs": [],
   "source": [
    "df = sample_info.join(indexed, on='Participant ID')\n",
    "df.head()"
   ]
  },
  {
   "cell_type": "code",
   "execution_count": null,
   "id": "c6cd244c-a3ee-454b-9930-31f0410c27c6",
   "metadata": {},
   "outputs": [],
   "source": [
    "df['Infection Pre-Boost'] = df.apply(lambda row: row['Vax1 to Infection'] < row['Vax1 to Boost'] or pd.isna(row['Vax1 to Boost']), axis=1)\n",
    "# Equivalently:\n",
    "df['Infection Pre-Boost'] = (df['Vax1 to Infection'] < df['Vax1 to Boost']) | pd.isna(df['Vax1 to Boost'])\n",
    "df['Infection Post-Boost'] = df['Infection Pre-Boost'].apply(lambda val: \"No\" if val else \"Yes\")\n",
    "df['Days to Infection'] = df['Days to Vax1'] - df['Vax1 to Infection']\n",
    "df['Days to Boost'] = df['Days to Vax1'] - df['Vax1 to Boost']\n",
    "df['Sample Pre-Infection'] = df['Days to Infection'] <= 0\n",
    "\n",
    "df.head()"
   ]
  },
  {
   "cell_type": "markdown",
   "id": "ad2d185d-162e-40c2-ad15-82ed88bae4e5",
   "metadata": {},
   "source": [
    "### Side note\n",
    "\n",
    "Applying a function to a series is pretty straightforward with Pandas. If the function you're applying depends on multiple values, you can access the whole row by applying it to the whole table:\n",
    "\n",
    "```python\n",
    "# Dataframe-level\n",
    "df['Infection Pre-Boost'] = df.apply(lambda row: row['Vax1 to Infection'] < row['Vax1 to Boost'] or pd.isna(row['Vax1 to Boost']), axis=1)\n",
    "\n",
    "# Series-level\n",
    "df['Infection Post-Boost'] = df['Infection Pre-Boost'].apply(lambda val: \"No\" if val else \"Yes\")\n",
    "```\n",
    "\n",
    "You get to choose the name of the argument here, but I tend to use `row` to represent a row of a dataframe and `val` to represent a single value. You can probably do better than `val`, but at least it's not wrong.\n"
   ]
  },
  {
   "cell_type": "code",
   "execution_count": null,
   "id": "8e243646-290a-48d8-85c2-70b2df3698ce",
   "metadata": {},
   "outputs": [],
   "source": [
    "df['Sorting Column'] = abs(df['Days to Infection'] - 28)\n",
    "df_dedup = (df.sort_values('Sorting Column')\n",
    "              .drop_duplicates(subset=['Participant ID', 'Sample Pre-Infection'], keep='first')\n",
    "              .sort_values(by=['Participant ID','Days to Infection'])\n",
    "              .drop('Sorting Column', axis=1))\n",
    "df_dedup['Log2AUC'] = np.log2(df['AUC'])\n",
    "df_dedup.head()"
   ]
  },
  {
   "cell_type": "code",
   "execution_count": null,
   "id": "e2282aa1-198c-412f-bfe9-fc07774132b6",
   "metadata": {},
   "outputs": [],
   "source": [
    "df_dedup.groupby('Participant ID').count().head()"
   ]
  },
  {
   "cell_type": "code",
   "execution_count": null,
   "id": "af811d4e-e9dd-496e-af14-87dd175e4811",
   "metadata": {},
   "outputs": [],
   "source": [
    "df_dedup.groupby('Participant ID').count().query('AUC == 1').head()"
   ]
  },
  {
   "cell_type": "code",
   "execution_count": null,
   "id": "db11df49-833d-48af-8c0f-29f40975d8c9",
   "metadata": {},
   "outputs": [],
   "source": [
    "insufficient = df_dedup.groupby('Participant ID').count().query('AUC == 1').index.to_numpy()\n",
    "insufficient"
   ]
  },
  {
   "cell_type": "code",
   "execution_count": null,
   "id": "6c580b04-4d9f-4855-8826-8f438d878c9e",
   "metadata": {},
   "outputs": [],
   "source": [
    "print(\"Unfiltered:\", df_dedup.shape)\n",
    "df_final = df_dedup[df_dedup['Participant ID'].apply(lambda val: val not in insufficient)]\n",
    "print(\"Filtered:\", df_final.shape)\n",
    "df_final.head()"
   ]
  },
  {
   "cell_type": "code",
   "execution_count": null,
   "id": "64071038-4ffa-4b39-bcc2-e8b994c2b368",
   "metadata": {},
   "outputs": [],
   "source": [
    "df_final.pivot_table(values='Log2AUC', index='Sample Pre-Infection', columns='Participant ID', sort=False)"
   ]
  },
  {
   "cell_type": "code",
   "execution_count": null,
   "id": "00c3159a-63bc-4143-93aa-ad83275529c5",
   "metadata": {},
   "outputs": [],
   "source": [
    "import requests\n",
    "\n",
    "pd.DataFrame(requests.get(\"https://api.fda.gov/device/covid19serology.json\", params={'limit': 1000}).json()['results'])"
   ]
  },
  {
   "cell_type": "code",
   "execution_count": null,
   "id": "2f7b7f91-bd25-4bcc-a03b-0efb478729db",
   "metadata": {},
   "outputs": [],
   "source": [
    "fda_data = requests.get('https://api.fda.gov/download.json').json()\n",
    "for cat, result in fda_data['results'].items():\n",
    "    for subcat, subresult in result.items():\n",
    "        print(cat,\":\", subcat, \":\", subresult['partitions'][-1]['file'])"
   ]
  },
  {
   "cell_type": "code",
   "execution_count": null,
   "id": "4a4eead5-02be-4f66-a1ac-39e903699d10",
   "metadata": {},
   "outputs": [],
   "source": [
    "import io\n",
    "import zipfile\n",
    "import json\n",
    "\n",
    "def get_fda(url):\n",
    "    fname = url.split(\"/\")[-1][:-4]\n",
    "    json_data = zipfile.ZipFile(io.BytesIO(requests.get(url).content)).read(fname).decode()\n",
    "    return pd.DataFrame(json.loads(json_data)['results'])"
   ]
  },
  {
   "cell_type": "code",
   "execution_count": null,
   "id": "c90f38c7-a7ca-4da9-b6cb-7a68ff6bd22c",
   "metadata": {},
   "outputs": [],
   "source": [
    "test_df = get_fda(\"https://download.open.fda.gov/device/covid19serology/device-covid19serology-0001-of-0001.json.zip\")\n",
    "test_df.head()"
   ]
  },
  {
   "cell_type": "code",
   "execution_count": null,
   "id": "ea85b488-2f5b-4191-a502-7e36516a3989",
   "metadata": {},
   "outputs": [],
   "source": [
    "test_df.describe()"
   ]
  },
  {
   "cell_type": "code",
   "execution_count": null,
   "id": "5c7122a2-e913-4158-a853-97cbc63e83df",
   "metadata": {},
   "outputs": [],
   "source": [
    "test_df.dtypes"
   ]
  },
  {
   "cell_type": "code",
   "execution_count": null,
   "id": "d0f541e2-bc13-431f-bd00-6efade4c275b",
   "metadata": {},
   "outputs": [],
   "source": [
    "titer_columns = [col for col in test_df.columns if 'titer' in col]\n",
    "for col in titer_columns:\n",
    "    test_df[col] = test_df[col].astype(int)\n",
    "test_df.describe()"
   ]
  },
  {
   "cell_type": "code",
   "execution_count": null,
   "id": "b0ff5da0-477d-4d29-91b1-6e4cdbaf2e4c",
   "metadata": {},
   "outputs": [],
   "source": [
    "test_df.groupby('device').count().head()"
   ]
  },
  {
   "cell_type": "code",
   "execution_count": null,
   "id": "cbba3d39-858f-426c-8497-c34e8a169a88",
   "metadata": {},
   "outputs": [],
   "source": [
    "print(len(test_df['device'].unique()))"
   ]
  },
  {
   "cell_type": "code",
   "execution_count": null,
   "id": "2057091d-4439-4d5c-a4b5-e96175b7968a",
   "metadata": {},
   "outputs": [],
   "source": [
    "116 * 110"
   ]
  },
  {
   "cell_type": "code",
   "execution_count": null,
   "id": "40fe1101-6935-400e-a2d7-af4a195ff4e4",
   "metadata": {},
   "outputs": [],
   "source": [
    "test_df.groupby('device').count().groupby('igg_agree').count()"
   ]
  },
  {
   "cell_type": "code",
   "execution_count": null,
   "id": "9d65acb4-85ed-4ed7-933a-78f900990a13",
   "metadata": {},
   "outputs": [],
   "source": [
    "test_count = test_df.groupby('device').count()\n",
    "test_count[test_count['sample_id'] == 220]"
   ]
  },
  {
   "cell_type": "code",
   "execution_count": null,
   "id": "21197130-99e2-4360-9422-a1dd3fc76ef1",
   "metadata": {},
   "outputs": [],
   "source": [
    "test_df.groupby('sample_id').count()"
   ]
  },
  {
   "cell_type": "code",
   "execution_count": null,
   "id": "2d3d6c1a-8d36-46ee-b0b9-59c642906292",
   "metadata": {},
   "outputs": [],
   "source": [
    "print(test_df.groupby('sample_id').count().shape)\n",
    "print(test_df.groupby(['sample_id'] + titer_columns).count().shape)"
   ]
  },
  {
   "cell_type": "code",
   "execution_count": null,
   "id": "874982cc-3924-477b-b08d-5a6d547dc5ff",
   "metadata": {},
   "outputs": [],
   "source": [
    "sns.pairplot(test_df.drop_duplicates('sample_id').loc[:, titer_columns])"
   ]
  },
  {
   "cell_type": "code",
   "execution_count": null,
   "id": "3e5f44d7-60d0-4b1b-8d3d-c1fe0f212a00",
   "metadata": {},
   "outputs": [],
   "source": [
    "one_per = np.log2(test_df.drop_duplicates('sample_id').loc[:, titer_columns])\n",
    "sns.pairplot(one_per)"
   ]
  },
  {
   "cell_type": "code",
   "execution_count": null,
   "id": "60c3b868-75bb-40f6-961f-c14bd31c0143",
   "metadata": {},
   "outputs": [],
   "source": [
    "rng = np.random.default_rng()\n",
    "sns.pairplot(one_per + rng.normal(0, 0.3, one_per.shape))"
   ]
  },
  {
   "cell_type": "code",
   "execution_count": null,
   "id": "bc51f466-7979-44e7-909a-30f79a21d7a9",
   "metadata": {},
   "outputs": [],
   "source": [
    "for_cluster = test_df.pivot_table(values='control', index='sample_id', columns='device', aggfunc='count', fill_value=0)\n",
    "g = sns.clustermap(for_cluster)\n",
    "plt.show()"
   ]
  },
  {
   "cell_type": "markdown",
   "id": "f7329b9e-1722-4cc4-b250-4184cecacbef",
   "metadata": {},
   "source": [
    "## Practice"
   ]
  },
  {
   "cell_type": "code",
   "execution_count": null,
   "id": "461379e7-7091-405a-b352-a5f0dad2278b",
   "metadata": {},
   "outputs": [],
   "source": [
    "candy = pd.read_csv('https://github.com/phoebewong/candy-hierarchy-2017/blob/master/candyhierarchy2017.csv?raw=true', encoding = \"ISO-8859-1\")\n",
    "print(candy.shape)\n",
    "candy.head()"
   ]
  },
  {
   "cell_type": "code",
   "execution_count": null,
   "id": "4264c90d-8c31-48cf-8ff5-0f14fe12a7e9",
   "metadata": {},
   "outputs": [],
   "source": []
  }
 ],
 "metadata": {
  "kernelspec": {
   "display_name": "Python 3 (ipykernel)",
   "language": "python",
   "name": "python3"
  },
  "language_info": {
   "codemirror_mode": {
    "name": "ipython",
    "version": 3
   },
   "file_extension": ".py",
   "mimetype": "text/x-python",
   "name": "python",
   "nbconvert_exporter": "python",
   "pygments_lexer": "ipython3",
   "version": "3.8.12"
  }
 },
 "nbformat": 4,
 "nbformat_minor": 5
}
